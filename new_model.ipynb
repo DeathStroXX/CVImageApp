{
 "cells": [
  {
   "cell_type": "code",
   "id": "initial_id",
   "metadata": {
    "collapsed": true,
    "ExecuteTime": {
     "end_time": "2025-01-05T23:26:30.428601Z",
     "start_time": "2025-01-05T23:26:30.421965Z"
    }
   },
   "source": [
    "import torch\n",
    "import torch.nn as nn\n",
    "import torch.utils.mobile_optimizer as mobile_optimizer\n"
   ],
   "outputs": [],
   "execution_count": 12
  },
  {
   "metadata": {
    "ExecuteTime": {
     "end_time": "2025-01-05T23:26:30.495600Z",
     "start_time": "2025-01-05T23:26:30.485399Z"
    }
   },
   "cell_type": "code",
   "source": [
    "def gamma_compression_torch(image):\n",
    "        \"\"\"Converts from linear to gamma space.\"\"\"\n",
    "        return torch.clamp(image, min=1e-8) ** (1.0 / 2.2)\n",
    "def tonemap_torch(image):\n",
    "        \"\"\"Simple S-curved global tonemap.\"\"\"\n",
    "        return (3 * (image**2)) - (2 * (image**3))"
   ],
   "id": "344a9fa0d2b708be",
   "outputs": [],
   "execution_count": 13
  },
  {
   "metadata": {
    "ExecuteTime": {
     "end_time": "2025-01-05T23:26:30.567444Z",
     "start_time": "2025-01-05T23:26:30.551735Z"
    }
   },
   "cell_type": "code",
   "source": [
    "class CustomModel(nn.Module):\n",
    "\n",
    "    def __init__(self):\n",
    "        super(CustomModel, self).__init__()\n",
    "        self.gamma = 0.5\n",
    "        self.cte = 2\n",
    "        self.contrast_factor = 1.5  # Example contrast adjustment factor\n",
    "\n",
    "    def forward(self, pixel_tensor):\n",
    "        # Normalize image to [0, 1] range\n",
    "        pixel_tensor = torch.where(torch.max(pixel_tensor) > 1, pixel_tensor / 255, pixel_tensor)\n",
    "\n",
    "\n",
    "        # Apply gamma compression and tonemapping using PyTorch functions\n",
    "        pixel_tensor = gamma_compression_torch(pixel_tensor)\n",
    "        pixel_tensor = tonemap_torch(pixel_tensor)\n",
    "        # Denormalize to [0, 255] and convert to uint8\n",
    "        pixel_tensor = torch.clip(pixel_tensor, 0, 1) * 255\n",
    "        pixel_tensor = pixel_tensor.to(torch.uint8)\n",
    "\n",
    "        return pixel_tensor"
   ],
   "id": "70e4ceaa4de0deff",
   "outputs": [],
   "execution_count": 14
  },
  {
   "metadata": {
    "ExecuteTime": {
     "end_time": "2025-01-05T23:26:31.114459Z",
     "start_time": "2025-01-05T23:26:30.618746Z"
    }
   },
   "cell_type": "code",
   "source": [
    "# Initialize the new model\n",
    "model = CustomModel()\n",
    "\n",
    "# Test with a dummy image\n",
    "dummy_img = torch.rand(1, 3, 1728, 2304)  # Batch of 1 RGB image (1728x2304)\n",
    "output = model(dummy_img)\n",
    "\n",
    "# Print output to verify shape and type\n",
    "print(output.shape)  # Should be (1, 3, 1728, 2304)\n",
    "print(output.dtype)  # Should be torch.uint8\n",
    "\n"
   ],
   "id": "16fef2f5b0ff009a",
   "outputs": [
    {
     "name": "stdout",
     "output_type": "stream",
     "text": [
      "torch.Size([1, 3, 1728, 2304])\n",
      "torch.uint8\n"
     ]
    }
   ],
   "execution_count": 15
  },
  {
   "metadata": {
    "ExecuteTime": {
     "end_time": "2025-01-05T23:26:35.194292Z",
     "start_time": "2025-01-05T23:26:31.281082Z"
    }
   },
   "cell_type": "code",
   "source": [
    "\n",
    "\n",
    "# Trace the model\n",
    "traced_model = torch.jit.trace(model, dummy_img)\n",
    "\n",
    "# Set the path same as in your previous code\n",
    "remoteDesktopPath = \"/home/ganeshmaudghalza/Documents/CVProject/CVColabFiles/simple_model.pt\"\n",
    "\n",
    "# Optimize for mobile\n",
    "traced_model_optimized = mobile_optimizer.optimize_for_mobile(traced_model)\n",
    "\n",
    "# Save the optimized model\n",
    "traced_model_optimized._save_for_lite_interpreter(remoteDesktopPath)\n"
   ],
   "id": "941aa893145abaee",
   "outputs": [],
   "execution_count": 16
  }
 ],
 "metadata": {
  "kernelspec": {
   "display_name": "Python 3",
   "language": "python",
   "name": "python3"
  },
  "language_info": {
   "codemirror_mode": {
    "name": "ipython",
    "version": 2
   },
   "file_extension": ".py",
   "mimetype": "text/x-python",
   "name": "python",
   "nbconvert_exporter": "python",
   "pygments_lexer": "ipython2",
   "version": "2.7.6"
  }
 },
 "nbformat": 4,
 "nbformat_minor": 5
}
